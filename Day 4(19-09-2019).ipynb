{
 "cells": [
  {
   "cell_type": "markdown",
   "metadata": {},
   "source": [
    "### String Fuctions\n",
    "- upper()-- will contain the input string into upper case\n",
    "- lowe() --will contain the input string into lower case"
   ]
  },
  {
   "cell_type": "code",
   "execution_count": null,
   "metadata": {},
   "outputs": [],
   "source": []
  },
  {
   "cell_type": "markdown",
   "metadata": {},
   "source": [
    "### string Boolean function\n",
    "- TRUE or FALSE\n",
    "- islower() -- True if the string have all the characters lower case\n",
    "- isupper() -- False if the string have all the characters upper case\n",
    "- istitle() -- True if the string in title case\n",
    "- isnumeric() -- True if the string numeric\n",
    "- isalpha()-- True if the string only alphabets\n",
    "- isspace()-- True if the string is spacr"
   ]
  },
  {
   "cell_type": "code",
   "execution_count": 1,
   "metadata": {},
   "outputs": [
    {
     "name": "stdout",
     "output_type": "stream",
     "text": [
      "True\n",
      "False\n"
     ]
    }
   ],
   "source": [
    "s1='python'\n",
    "print(s1.islower())\n",
    "print(s1.isupper())"
   ]
  },
  {
   "cell_type": "code",
   "execution_count": 6,
   "metadata": {},
   "outputs": [
    {
     "name": "stdout",
     "output_type": "stream",
     "text": [
      "False\n"
     ]
    }
   ],
   "source": [
    "s1='python Programming'\n",
    "print(s1.istitle())"
   ]
  },
  {
   "cell_type": "code",
   "execution_count": 7,
   "metadata": {},
   "outputs": [
    {
     "name": "stdout",
     "output_type": "stream",
     "text": [
      "False\n",
      "False\n"
     ]
    }
   ],
   "source": [
    "s1='123456'\n",
    "s2='py123'\n",
    "print(s1.isalpha())\n",
    "print(s2.isspace())"
   ]
  },
  {
   "cell_type": "markdown",
   "metadata": {},
   "source": [
    "### String Methods\n",
    "- split() -- returns the list \n",
    "- replace()--return the list with replaced charcter in the list\n",
    "- join()--"
   ]
  },
  {
   "cell_type": "code",
   "execution_count": 13,
   "metadata": {},
   "outputs": [
    {
     "name": "stdout",
     "output_type": "stream",
     "text": [
      "['python', 'Programming', 'learn', 'made', 'easy']\n"
     ]
    }
   ],
   "source": [
    "s1='python Programming learn made easy'\n",
    "li=s1.split()\n",
    "print(li)"
   ]
  },
  {
   "cell_type": "code",
   "execution_count": 14,
   "metadata": {},
   "outputs": [
    {
     "name": "stdout",
     "output_type": "stream",
     "text": [
      "['python Progr', 'mming le', 'rn m', 'de e', 'sy']\n"
     ]
    }
   ],
   "source": [
    "s1='python Programming learn made easy'\n",
    "li=s1.split('a')\n",
    "print(li)\n"
   ]
  },
  {
   "cell_type": "code",
   "execution_count": 15,
   "metadata": {},
   "outputs": [
    {
     "name": "stdout",
     "output_type": "stream",
     "text": [
      "python Progr@mming le@rn m@de e@sy\n"
     ]
    }
   ],
   "source": [
    "s1='python Programming learn made easy'\n",
    "print(s1.replace('a','@'))"
   ]
  },
  {
   "cell_type": "code",
   "execution_count": 16,
   "metadata": {},
   "outputs": [
    {
     "name": "stdout",
     "output_type": "stream",
     "text": [
      "python-Programming-learn-made-easy\n"
     ]
    }
   ],
   "source": [
    "s1='python Programming learn made easy'\n",
    "print(s1.replace(' ','-'))"
   ]
  },
  {
   "cell_type": "code",
   "execution_count": 17,
   "metadata": {},
   "outputs": [
    {
     "name": "stdout",
     "output_type": "stream",
     "text": [
      "p y t h o n\n"
     ]
    }
   ],
   "source": [
    "s1='python'\n",
    "print(\" \".join(s1))"
   ]
  },
  {
   "cell_type": "markdown",
   "metadata": {},
   "source": [
    "## string Formating\n",
    ". classic version\n",
    ". current version python\n"
   ]
  },
  {
   "cell_type": "code",
   "execution_count": 20,
   "metadata": {},
   "outputs": [
    {
     "name": "stdout",
     "output_type": "stream",
     "text": [
      "1 2 3 4  \n"
     ]
    }
   ],
   "source": [
    "li=[1,2,3,4]\n",
    "print('%d %d %d %d  '% (li[0],li[1],li[2],li[3]))"
   ]
  },
  {
   "cell_type": "markdown",
   "metadata": {},
   "source": [
    "### Dictionaries\n",
    "- it works on concepts of unique data\n",
    "- key,value is the unique identifer a value\n",
    "- Each key is seperated from value colon(:)\n",
    "- Each key and value is seperated by comma (,)\n",
    "- Dictionaries are enclosed with curly brackets({})"
   ]
  },
  {
   "cell_type": "code",
   "execution_count": 30,
   "metadata": {},
   "outputs": [
    {
     "name": "stdout",
     "output_type": "stream",
     "text": [
      "{'Name': 'Gitam', 'EmailId': 'gitamvizag@gmail.com', 'Address': 'vizag'}\n"
     ]
    },
    {
     "data": {
      "text/plain": [
       "'gitamvizag@gmail.com'"
      ]
     },
     "execution_count": 30,
     "metadata": {},
     "output_type": "execute_result"
    }
   ],
   "source": [
    "d1={\"Name\":\"Gitam\",\"EmailId\":\"gitamvizag@gmail.com\",\"Address\":\"vizag\"}\n",
    "print(d1)\n",
    "d1[\"EmailId\"] #Access the speific key value"
   ]
  },
  {
   "cell_type": "code",
   "execution_count": 33,
   "metadata": {},
   "outputs": [
    {
     "data": {
      "text/plain": [
       "'Gitam@hotelmail.com'"
      ]
     },
     "execution_count": 33,
     "metadata": {},
     "output_type": "execute_result"
    }
   ],
   "source": [
    "d1[\"EmailId\"]=\"Gitam@hotelmail.com\"#update the value using key\n",
    "d1[\"EmailId\"]"
   ]
  },
  {
   "cell_type": "code",
   "execution_count": 34,
   "metadata": {},
   "outputs": [
    {
     "data": {
      "text/plain": [
       "dict_keys(['Name', 'EmailId', 'Address'])"
      ]
     },
     "execution_count": 34,
     "metadata": {},
     "output_type": "execute_result"
    }
   ],
   "source": [
    "d1.keys() #all the keys of Dic objects\n"
   ]
  },
  {
   "cell_type": "code",
   "execution_count": 35,
   "metadata": {},
   "outputs": [
    {
     "data": {
      "text/plain": [
       "dict_values(['Gitam', 'Gitam@hotelmail.com', 'vizag'])"
      ]
     },
     "execution_count": 35,
     "metadata": {},
     "output_type": "execute_result"
    }
   ],
   "source": [
    "d1.values() #all the values of Dict obj"
   ]
  },
  {
   "cell_type": "code",
   "execution_count": null,
   "metadata": {},
   "outputs": [],
   "source": [
    "del d1[\"EmailId\"] # only delete one key and one value\n"
   ]
  },
  {
   "cell_type": "code",
   "execution_count": 39,
   "metadata": {},
   "outputs": [
    {
     "data": {
      "text/plain": [
       "{'Name': 'Gitam', 'Address': 'vizag'}"
      ]
     },
     "execution_count": 39,
     "metadata": {},
     "output_type": "execute_result"
    }
   ],
   "source": [
    "d1"
   ]
  },
  {
   "cell_type": "markdown",
   "metadata": {},
   "source": [
    "# contact application\n",
    "- add contact details\n",
    "-  Search the contact details\n",
    "- List the contact details (Merge/Import)\n",
    "    - Name 1-value\n",
    "    - Name 2-value\n",
    "    - modify or update the contact details"
   ]
  },
  {
   "cell_type": "code",
   "execution_count": 44,
   "metadata": {},
   "outputs": [
    {
     "name": "stdout",
     "output_type": "stream",
     "text": [
      "contact Details are added successfully\n",
      "contact Details are added successfully\n",
      "name is already Exists\n"
     ]
    }
   ],
   "source": [
    "contacts={} #empty Dict obj\n",
    "#Let's create a function to add contacts details\n",
    "def addContact(name,phone):\n",
    "    if name  not in contacts:#cond to check name is Exists or not\n",
    "        contacts[name]=phone\n",
    "        print('contact Details are added successfully')\n",
    "    else:\n",
    "        print('name is already Exists')\n",
    "    return\n",
    "addContact('Manish','7476548903')\n",
    "addContact('vinay','747652650')\n",
    "addContact('Manish','74765482640')"
   ]
  },
  {
   "cell_type": "code",
   "execution_count": 49,
   "metadata": {},
   "outputs": [
    {
     "name": "stdout",
     "output_type": "stream",
     "text": [
      "Manish :  7476548903\n",
      "vinay :  747652650\n",
      "Gitam does not present\n"
     ]
    }
   ],
   "source": [
    "def searchContacts(name):\n",
    "    if name in contacts:\n",
    "        print(name,\": \",contacts[name])\n",
    "    else:\n",
    "        print('{0} does not present'.format(name))\n",
    "        #print('%s does not present ' % name)\n",
    "    return\n",
    "searchContacts('Manish')\n",
    "searchContacts('vinay')\n",
    "searchContacts('Gitam')"
   ]
  },
  {
   "cell_type": "code",
   "execution_count": 51,
   "metadata": {},
   "outputs": [
    {
     "name": "stdout",
     "output_type": "stream",
     "text": [
      "3 contacts are added\n"
     ]
    }
   ],
   "source": [
    "#import new contact details \n",
    "# Merge the previous details with new details\n",
    "def importContacts(newContacts):\n",
    "    contacts.update(newContacts)\n",
    "    print(len(newContacts.keys()),'contacts are added')\n",
    "    return\n",
    "newContacts={'Gitam':9988775544,'anil':925348959,'python':859526545}\n",
    "importContacts(newContacts)"
   ]
  },
  {
   "cell_type": "code",
   "execution_count": 52,
   "metadata": {},
   "outputs": [
    {
     "data": {
      "text/plain": [
       "{'Manish': '7476548903',\n",
       " 'vinay': '747652650',\n",
       " 'Gitam': 9988775544,\n",
       " 'anil': 925348959,\n",
       " 'python': 859526545}"
      ]
     },
     "execution_count": 52,
     "metadata": {},
     "output_type": "execute_result"
    }
   ],
   "source": [
    "contacts"
   ]
  },
  {
   "cell_type": "code",
   "execution_count": 55,
   "metadata": {},
   "outputs": [
    {
     "name": "stdout",
     "output_type": "stream",
     "text": [
      "vinay updated successfully\n",
      "vijay not exists\n"
     ]
    }
   ],
   "source": [
    "def modifyContact(name,phone):\n",
    "    if name in contacts:\n",
    "        contacts[name]=phone\n",
    "        print(name,'updated successfully')\n",
    "    else:\n",
    "        print(name,'not exists')\n",
    "    return\n",
    "modifyContact('vinay',125637856)\n",
    "modifyContact('vijay',648531296)"
   ]
  },
  {
   "cell_type": "code",
   "execution_count": 58,
   "metadata": {},
   "outputs": [
    {
     "name": "stdout",
     "output_type": "stream",
     "text": [
      "Manish deleted successfully\n"
     ]
    }
   ],
   "source": [
    "def deleteContact(name):\n",
    "    if name in contacts:\n",
    "        del contacts[name]\n",
    "        print(name,\"deleted successfully\")\n",
    "    else:\n",
    "        print(name,'Not present')\n",
    "    return\n",
    "deleteContact('Manish')\n",
    "        "
   ]
  },
  {
   "cell_type": "code",
   "execution_count": 59,
   "metadata": {},
   "outputs": [
    {
     "data": {
      "text/plain": [
       "{'vinay': 125637856,\n",
       " 'Gitam': 9988775544,\n",
       " 'anil': 925348959,\n",
       " 'python': 859526545}"
      ]
     },
     "execution_count": 59,
     "metadata": {},
     "output_type": "execute_result"
    }
   ],
   "source": [
    "contacts"
   ]
  },
  {
   "cell_type": "markdown",
   "metadata": {},
   "source": [
    "## Standard libraries\n",
    "- regular Expressions\n",
    "  - To validate the Indian Moblie\n",
    "  -  To validate  the Email Id\n",
    "  - To validate the username\n",
    "  -  To validate the password\n",
    "- understanding the  Regular Expressions\n",
    "   - [0-9] --Any digit matching\n",
    "   - [a-z] -- Any lower case matching\n",
    "   - [A-Z] -- Any upper case matching\n",
    "   - cap symbol is used to represent the start of regular expression\n",
    "   - Dollar symbol is used to represent the end of regular expression\n",
    "    "
   ]
  },
  {
   "cell_type": "code",
   "execution_count": 63,
   "metadata": {},
   "outputs": [
    {
     "name": "stdout",
     "output_type": "stream",
     "text": [
      "True\n",
      "False\n"
     ]
    }
   ],
   "source": [
    "#function to test the two digit number as input\n",
    "#True--- Input two digit number\n",
    "#False-- Input not a two digit number\n",
    "import re\n",
    "def twoDigitMatching(n):\n",
    "    pattern ='^[0-2](2)$'\n",
    "    n=str(n)\n",
    "    if re.match(pattern,n):\n",
    "        return True\n",
    "    return False\n",
    "print(twoDigitMatching(12))\n",
    "print(twoDigitMatching(123))"
   ]
  },
  {
   "cell_type": "code",
   "execution_count": 65,
   "metadata": {},
   "outputs": [
    {
     "name": "stdout",
     "output_type": "stream",
     "text": [
      "False\n",
      "False\n",
      "False\n"
     ]
    }
   ],
   "source": [
    "#regular Expression for username\n",
    "#Username --shuold contains \n",
    "\n",
    "def validateUsername(s):\n",
    "    pattern ='^[a-zA-Z]{5-12}$'\n",
    "    if re.match(pattern,s):\n",
    "        return True\n",
    "    return False\n",
    "print(validateUsername('Anilkumar'))\n",
    "print(validateUsername('Anil'))\n",
    "print(validateUsername('Gitamvizagpythonprogramming'))"
   ]
  },
  {
   "cell_type": "markdown",
   "metadata": {},
   "source": [
    "### Regular Expression\n",
    "- Regular Expression for rollnumber\n",
    "  -example:1521120 #valid\n",
    "  -ex :15623489 #valid\n",
    " - regular expression for password\n",
    "   - parameters -Len min 6 max 10\n",
    "   -"
   ]
  },
  {
   "cell_type": "markdown",
   "metadata": {},
   "source": [
    "### Regular Expressions\n",
    "- 10 digit number\n",
    "  - First number is starts from [6-9]\n",
    "  - Rest of 9 number is bewtween[0-9]\n",
    "- 11 digit number\n",
    "    - First number is starts from [0]\n",
    "    - second number can [6-9]\n",
    "    - Rest of 9 number is bewtween[0-9]\n",
    "- 13 digit number\n",
    "    - First number is starts from [+]\n",
    "    - second number can be [9]\n",
    "    - third number can be[1]\n",
    "    - fourth number can be[6-9]\n",
    "    - Rest of 9 number is bewtween[0-9]"
   ]
  },
  {
   "cell_type": "code",
   "execution_count": 1,
   "metadata": {},
   "outputs": [
    {
     "data": {
      "text/plain": [
       "True"
      ]
     },
     "execution_count": 1,
     "metadata": {},
     "output_type": "execute_result"
    }
   ],
   "source": [
    "import re\n",
    "def validateIndainNumber(n):\n",
    "    pattern='^[6-9][0-9]{9}$|^[0][6-9][0-9]{9}$|^[+][9][1][6-9][0-9]{9}$'\n",
    "    n=str(n)\n",
    "    if re.match(pattern,n):\n",
    "        return True\n",
    "    return False\n",
    "validateIndainNumber('9666472624')"
   ]
  },
  {
   "cell_type": "code",
   "execution_count": null,
   "metadata": {},
   "outputs": [],
   "source": [
    "#Rule 1:^[6-9][0-9]{9}$\n",
    "#rule2:^[0][6-9][0-9]{9}$\n",
    "#Rule 3:^[+][9][1][6-9][0-9]{9}$"
   ]
  },
  {
   "cell_type": "markdown",
   "metadata": {},
   "source": [
    "### validate the EmailId\n",
    "- Ex:Username@DomainNmae.extension\n",
    "- Ex:dsps@gmail.com\n",
    "- Username:\n",
    "  - Len of string will be [6-15]\n",
    "  - no spl charcters excepts Underscore (_)\n",
    "  - Username should not begins with underscore(_)\n",
    "  - all charcters set Digits ,Lower case and uppercase \n",
    "    -Example:anil_1889\n",
    "- DomainName\n",
    " - Len of string will be [3-18]\n",
    " - no space charcters\n",
    " - charcters set will be Digits ,Lower case and upper case\n",
    "   - Ex: gmail,hotmail,ymail,rediff and etc...\n",
    "- Extensions:\n",
    " - Len of string will be [2-4]\n",
    " -  No spl charcater allowed\n",
    " - charcters set will be lower case charcters\n",
    "    - Ex : com in au uk\n"
   ]
  },
  {
   "cell_type": "code",
   "execution_count": null,
   "metadata": {},
   "outputs": [],
   "source": [
    "  #Username Re:    ^[0-9a-zA-Z][0-9a-zA-Z_.]{5,14}$\n",
    " #DomainName RE:  ^[a-z0-9]{3,18}$\n",
    "#EXtension Re:   ^[a-z]{2,4}$\n",
    "#Emailid  RE: ^[0-9a-zA-Z][0-9a-zA-Z_.]{5,14}[@][a-z0-9]{3,18}[.][a-z]{2,4}$"
   ]
  },
  {
   "cell_type": "code",
   "execution_count": 3,
   "metadata": {},
   "outputs": [
    {
     "data": {
      "text/plain": [
       "True"
      ]
     },
     "execution_count": 3,
     "metadata": {},
     "output_type": "execute_result"
    }
   ],
   "source": [
    "def validateEmail(email):\n",
    "    pattern='^[0-9a-zA-Z][0-9a-zA-Z_.]{5,14}[@][a-z0-9]{3,18}[.][a-z]{2,4}$'\n",
    "    if re.match(pattern,email):\n",
    "        return True \n",
    "    return False\n",
    "validateEmail('cpchitrala6611@gmail.com')"
   ]
  },
  {
   "cell_type": "markdown",
   "metadata": {},
   "source": [
    "### Python Graphics\n",
    "- lib\n",
    "- turtle"
   ]
  },
  {
   "cell_type": "markdown",
   "metadata": {},
   "source": [
    "#### Pacakges "
   ]
  },
  {
   "cell_type": "code",
   "execution_count": 4,
   "metadata": {},
   "outputs": [
    {
     "data": {
      "text/plain": [
       "123"
      ]
     },
     "execution_count": 4,
     "metadata": {},
     "output_type": "execute_result"
    }
   ],
   "source": [
    "import math\n",
    "math.floor(123.456)\n",
    "# imports all the funtion into python program"
   ]
  },
  {
   "cell_type": "code",
   "execution_count": 5,
   "metadata": {},
   "outputs": [
    {
     "data": {
      "text/plain": [
       "124"
      ]
     },
     "execution_count": 5,
     "metadata": {},
     "output_type": "execute_result"
    }
   ],
   "source": [
    "math.ceil(123.46)"
   ]
  },
  {
   "cell_type": "code",
   "execution_count": 6,
   "metadata": {},
   "outputs": [
    {
     "data": {
      "text/plain": [
       "3628800"
      ]
     },
     "execution_count": 6,
     "metadata": {},
     "output_type": "execute_result"
    }
   ],
   "source": [
    "from math import  factorial as fact #will import  only specific funtion\n",
    "fact(10)"
   ]
  },
  {
   "cell_type": "code",
   "execution_count": 7,
   "metadata": {},
   "outputs": [
    {
     "data": {
      "text/plain": [
       "5"
      ]
     },
     "execution_count": 7,
     "metadata": {},
     "output_type": "execute_result"
    }
   ],
   "source": [
    "from math import gcd as gcd \n",
    "gcd(10,15)"
   ]
  },
  {
   "cell_type": "code",
   "execution_count": null,
   "metadata": {},
   "outputs": [],
   "source": [
    "\n",
    "#Draw the star symbol\n",
    "\n",
    "import turtle as t\n",
    "a1=t.Turtle()\n",
    "for i in range (40):\n",
    "    a1.forward(50)\n",
    "    a1.right(144)\n",
    "t.done()\n"
   ]
  },
  {
   "cell_type": "code",
   "execution_count": null,
   "metadata": {},
   "outputs": [],
   "source": []
  }
 ],
 "metadata": {
  "kernelspec": {
   "display_name": "Python 3",
   "language": "python",
   "name": "python3"
  },
  "language_info": {
   "codemirror_mode": {
    "name": "ipython",
    "version": 3
   },
   "file_extension": ".py",
   "mimetype": "text/x-python",
   "name": "python",
   "nbconvert_exporter": "python",
   "pygments_lexer": "ipython3",
   "version": "3.7.3"
  }
 },
 "nbformat": 4,
 "nbformat_minor": 2
}
